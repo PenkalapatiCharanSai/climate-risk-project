{
 "cells": [
  {
   "cell_type": "code",
   "execution_count": 1,
   "id": "91f5c691-7a0a-4b6d-9466-1e66bf514d5e",
   "metadata": {},
   "outputs": [],
   "source": [
    "import pandas as pd\n",
    "import numpy as np"
   ]
  },
  {
   "cell_type": "code",
   "execution_count": 63,
   "id": "c4c822e5-3ec5-40b1-acf8-a255b2261bdc",
   "metadata": {},
   "outputs": [],
   "source": [
    "file_path = r\"C:\\Users\\Chara\\OneDrive\\Desktop\\Global_Landslide_project\\Global_Landslide_Catalog.xlsx\"\n",
    "df = pd.read_excel(file_path)"
   ]
  },
  {
   "cell_type": "code",
   "execution_count": 65,
   "id": "9654998b-7c3f-4c29-aa8a-c64f408c8d1b",
   "metadata": {},
   "outputs": [
    {
     "name": "stdout",
     "output_type": "stream",
     "text": [
      "\n",
      "--- Dataset Info ---\n",
      "<class 'pandas.core.frame.DataFrame'>\n",
      "RangeIndex: 11033 entries, 0 to 11032\n",
      "Data columns (total 31 columns):\n",
      " #   Column                     Non-Null Count  Dtype  \n",
      "---  ------                     --------------  -----  \n",
      " 0   source_name                11033 non-null  object \n",
      " 1   source_link                10187 non-null  object \n",
      " 2   event_id                   11033 non-null  int64  \n",
      " 3   event_date                 11033 non-null  object \n",
      " 4   event_time                 0 non-null      float64\n",
      " 5   event_title                11033 non-null  object \n",
      " 6   event_description          10171 non-null  object \n",
      " 7   location_description       10931 non-null  object \n",
      " 8   location_accuracy          11031 non-null  object \n",
      " 9   landslide_category         11032 non-null  object \n",
      " 10  landslide_trigger          11010 non-null  object \n",
      " 11  landslide_size             11024 non-null  object \n",
      " 12  landslide_setting          10964 non-null  object \n",
      " 13  fatality_count             9648 non-null   float64\n",
      " 14  injury_count               5359 non-null   float64\n",
      " 15  storm_name                 577 non-null    object \n",
      " 16  photo_link                 1496 non-null   object \n",
      " 17  notes                      317 non-null    object \n",
      " 18  event_import_source        9470 non-null   object \n",
      " 19  event_import_id            9471 non-null   float64\n",
      " 20  country_name               9471 non-null   object \n",
      " 21  country_code               9469 non-null   object \n",
      " 22  admin_division_name        9396 non-null   object \n",
      " 23  admin_division_population  9471 non-null   float64\n",
      " 24  gazeteer_closest_point     9470 non-null   object \n",
      " 25  gazeteer_distance          9471 non-null   float64\n",
      " 26  submitted_date             11023 non-null  object \n",
      " 27  created_date               11032 non-null  object \n",
      " 28  last_edited_date           11033 non-null  object \n",
      " 29  longitude                  11033 non-null  float64\n",
      " 30  latitude                   11033 non-null  float64\n",
      "dtypes: float64(8), int64(1), object(22)\n",
      "memory usage: 2.6+ MB\n"
     ]
    }
   ],
   "source": [
    "print(\"\\n--- Dataset Info ---\")\n",
    "df.info()"
   ]
  },
  {
   "cell_type": "code",
   "execution_count": 51,
   "id": "2576b4ac-cdde-43f2-b689-9d24fc6c5b6c",
   "metadata": {},
   "outputs": [
    {
     "name": "stdout",
     "output_type": "stream",
     "text": [
      "\n",
      "--- Descriptive Statistics ---\n",
      "           event_id  event_time  fatality_count  injury_count  \\\n",
      "count  11033.000000         0.0     9648.000000   5359.000000   \n",
      "mean    5598.953141         NaN        3.219424      0.751819   \n",
      "std     3249.228647         NaN       59.886178      8.458955   \n",
      "min        1.000000         NaN        0.000000      0.000000   \n",
      "25%     2785.000000         NaN        0.000000      0.000000   \n",
      "50%     5563.000000         NaN        0.000000      0.000000   \n",
      "75%     8435.000000         NaN        1.000000      0.000000   \n",
      "max    11221.000000         NaN     5000.000000    374.000000   \n",
      "\n",
      "       event_import_id  admin_division_population  gazeteer_distance  \\\n",
      "count      9471.000000               9.471000e+03        9471.000000   \n",
      "mean       4798.563070               1.577600e+05          11.873689   \n",
      "std        2789.125559               8.297345e+05          15.598228   \n",
      "min        -111.167300               0.000000e+00           0.000030   \n",
      "25%        2386.500000               1.963000e+03           2.363845   \n",
      "50%        4773.000000               7.365000e+03           6.254870   \n",
      "75%        7189.500000               3.402100e+04          15.815610   \n",
      "max        9669.000000               1.269184e+07         215.448880   \n",
      "\n",
      "          longitude      latitude  \n",
      "count  11033.000000  11033.000000  \n",
      "mean       2.520441     25.881887  \n",
      "std      100.908393     20.415054  \n",
      "min     -179.980766    -46.774800  \n",
      "25%     -107.871700     13.917600  \n",
      "50%       19.694600     30.534500  \n",
      "75%       93.948000     40.866259  \n",
      "max      179.991364     72.627500  \n"
     ]
    }
   ],
   "source": [
    "print(\"\\n--- Descriptive Statistics ---\")\n",
    "print(df.describe())"
   ]
  },
  {
   "cell_type": "code",
   "execution_count": 53,
   "id": "aba2dec9-6a06-47b6-954f-1f4fec339e9c",
   "metadata": {},
   "outputs": [
    {
     "name": "stdout",
     "output_type": "stream",
     "text": [
      "\n",
      "--- Missing Values Count ---\n",
      "source_name                      0\n",
      "source_link                    846\n",
      "event_id                         0\n",
      "event_date                       0\n",
      "event_time                   11033\n",
      "event_title                      0\n",
      "event_description              862\n",
      "location_description           102\n",
      "location_accuracy                2\n",
      "landslide_category               1\n",
      "landslide_trigger               23\n",
      "landslide_size                   9\n",
      "landslide_setting               69\n",
      "fatality_count                1385\n",
      "injury_count                  5674\n",
      "storm_name                   10456\n",
      "photo_link                    9537\n",
      "notes                        10716\n",
      "event_import_source           1563\n",
      "event_import_id               1562\n",
      "country_name                  1562\n",
      "country_code                  1564\n",
      "admin_division_name           1637\n",
      "admin_division_population     1562\n",
      "gazeteer_closest_point        1563\n",
      "gazeteer_distance             1562\n",
      "submitted_date                  10\n",
      "created_date                     1\n",
      "last_edited_date                 0\n",
      "longitude                        0\n",
      "latitude                         0\n",
      "dtype: int64\n"
     ]
    }
   ],
   "source": [
    "print(\"\\n--- Missing Values Count ---\")\n",
    "print(df.isnull().sum())"
   ]
  },
  {
   "cell_type": "code",
   "execution_count": 69,
   "id": "05a1733e-19f6-4133-954b-db155df21ee5",
   "metadata": {},
   "outputs": [
    {
     "name": "stdout",
     "output_type": "stream",
     "text": [
      "<class 'pandas.core.frame.DataFrame'>\n",
      "RangeIndex: 11033 entries, 0 to 11032\n",
      "Data columns (total 31 columns):\n",
      " #   Column                     Non-Null Count  Dtype  \n",
      "---  ------                     --------------  -----  \n",
      " 0   source_name                11033 non-null  object \n",
      " 1   source_link                10187 non-null  object \n",
      " 2   event_id                   11033 non-null  int64  \n",
      " 3   event_date                 11033 non-null  object \n",
      " 4   event_time                 0 non-null      float64\n",
      " 5   event_title                11033 non-null  object \n",
      " 6   event_description          10171 non-null  object \n",
      " 7   location_description       10931 non-null  object \n",
      " 8   location_accuracy          11031 non-null  object \n",
      " 9   landslide_category         11032 non-null  object \n",
      " 10  landslide_trigger          11010 non-null  object \n",
      " 11  landslide_size             11024 non-null  object \n",
      " 12  landslide_setting          10964 non-null  object \n",
      " 13  fatality_count             9648 non-null   float64\n",
      " 14  injury_count               5359 non-null   float64\n",
      " 15  storm_name                 577 non-null    object \n",
      " 16  photo_link                 1496 non-null   object \n",
      " 17  notes                      317 non-null    object \n",
      " 18  event_import_source        9470 non-null   object \n",
      " 19  event_import_id            9471 non-null   float64\n",
      " 20  country_name               9471 non-null   object \n",
      " 21  country_code               9469 non-null   object \n",
      " 22  admin_division_name        9396 non-null   object \n",
      " 23  admin_division_population  9471 non-null   float64\n",
      " 24  gazeteer_closest_point     9470 non-null   object \n",
      " 25  gazeteer_distance          9471 non-null   float64\n",
      " 26  submitted_date             11023 non-null  object \n",
      " 27  created_date               11032 non-null  object \n",
      " 28  last_edited_date           11033 non-null  object \n",
      " 29  longitude                  11033 non-null  float64\n",
      " 30  latitude                   11033 non-null  float64\n",
      "dtypes: float64(8), int64(1), object(22)\n",
      "memory usage: 2.6+ MB\n"
     ]
    }
   ],
   "source": [
    "df.info()"
   ]
  },
  {
   "cell_type": "code",
   "execution_count": 71,
   "id": "d7f3e939-19e5-424a-9dab-c5c869366df8",
   "metadata": {},
   "outputs": [
    {
     "name": "stdout",
     "output_type": "stream",
     "text": [
      "(11033, 31)\n"
     ]
    }
   ],
   "source": [
    "print(df.shape)"
   ]
  },
  {
   "cell_type": "code",
   "execution_count": null,
   "id": "82f95954-1244-40d4-beea-3efa0623985a",
   "metadata": {},
   "outputs": [],
   "source": []
  }
 ],
 "metadata": {
  "kernelspec": {
   "display_name": "Python 3 (ipykernel)",
   "language": "python",
   "name": "python3"
  },
  "language_info": {
   "codemirror_mode": {
    "name": "ipython",
    "version": 3
   },
   "file_extension": ".py",
   "mimetype": "text/x-python",
   "name": "python",
   "nbconvert_exporter": "python",
   "pygments_lexer": "ipython3",
   "version": "3.12.4"
  }
 },
 "nbformat": 4,
 "nbformat_minor": 5
}
